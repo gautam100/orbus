{
 "cells": [
  {
   "cell_type": "code",
   "execution_count": 23,
   "id": "59583f25-d954-4229-a18b-257d0bb8915f",
   "metadata": {},
   "outputs": [
    {
     "name": "stdout",
     "output_type": "stream",
     "text": [
      "Hello World!*This is Python\n"
     ]
    }
   ],
   "source": [
    "print(\"Hello World!\",end=\"*\")\n",
    "print(\"This is Python\")"
   ]
  },
  {
   "cell_type": "code",
   "execution_count": 4,
   "id": "3c95c982-0fd7-4c8e-822a-b000d34d1c9c",
   "metadata": {},
   "outputs": [
    {
     "name": "stdout",
     "output_type": "stream",
     "text": [
      "Python...JS\n"
     ]
    }
   ],
   "source": [
    "a = \"Python\"\n",
    "b = \"JS\"\n",
    "print(a,b,sep=\"...\")"
   ]
  },
  {
   "cell_type": "code",
   "execution_count": 8,
   "id": "386c506f-fa68-48d0-b684-252468085034",
   "metadata": {},
   "outputs": [
    {
     "name": "stdin",
     "output_type": "stream",
     "text": [
      "Enter First Num:- 5\n",
      "Enter Second Num:- 2\n"
     ]
    },
    {
     "name": "stdout",
     "output_type": "stream",
     "text": [
      "sum is:  7\n",
      "Sub is:  3\n",
      "Multiplication is:  10\n",
      "Division is:  2.5\n",
      "Modulus is:  1\n",
      "Exponent is:  25\n"
     ]
    }
   ],
   "source": [
    "a = int(input(\"Enter First Num:-\"))\n",
    "b = int(input(\"Enter Second Num:-\"))\n",
    "\n",
    "print(\"sum is: \",a+b)\n",
    "print(\"Sub is: \",a-b)\n",
    "print(\"Multiplication is: \",a*b)\n",
    "print(\"Division is: \",a/b)\n",
    "print(\"Modulus is: \",a%b)\n",
    "print(\"Exponent is: \",a**b)\n",
    "\n"
   ]
  },
  {
   "cell_type": "code",
   "execution_count": 12,
   "id": "e55adbab-c5fc-492c-97e0-49a6c1c24a47",
   "metadata": {},
   "outputs": [
    {
     "name": "stdout",
     "output_type": "stream",
     "text": [
      "<class 'int'>\n",
      "<class 'float'>\n",
      "<class 'str'>\n",
      "<class 'bool'>\n"
     ]
    }
   ],
   "source": [
    "num = 10;\n",
    "print(type(num))\n",
    "\n",
    "decNum = 10.5\n",
    "print(type(decNum))\n",
    "\n",
    "str = \"Python\"\n",
    "print(type(str))\n",
    "\n",
    "isEnable = True\n",
    "print(type(isEnable))"
   ]
  },
  {
   "cell_type": "code",
   "execution_count": 17,
   "id": "6f3529f5-7f79-4b56-b94e-3b3cd65d67a0",
   "metadata": {},
   "outputs": [
    {
     "name": "stdout",
     "output_type": "stream",
     "text": [
      "A\n",
      "B\n",
      "C\n",
      "C\n",
      "B\n",
      "A\n"
     ]
    }
   ],
   "source": [
    "str = \"ABC\"\n",
    "print(str[0])\n",
    "print(str[1])\n",
    "print(str[2])\n",
    "print(str[-1])\n",
    "print(str[-2])\n",
    "print(str[-3])"
   ]
  },
  {
   "cell_type": "code",
   "execution_count": 19,
   "id": "a85fb312-0718-49b2-af2a-153caa74b9ad",
   "metadata": {},
   "outputs": [
    {
     "name": "stdout",
     "output_type": "stream",
     "text": [
      "Ind\n",
      "nd\n",
      "d\n",
      "ndia\n",
      "Ind\n"
     ]
    }
   ],
   "source": [
    "str = \"India\"\n",
    "print(str[0:3]) #Ind\n",
    "print(str[1:3]) #nd\n",
    "print(str[2:3]) #d\n",
    "print(str[1:]) #ndia\n",
    "print(str[:3]) #ind\n"
   ]
  },
  {
   "cell_type": "code",
   "execution_count": 22,
   "id": "6189db27-a564-4381-b418-1e30d6c7fc46",
   "metadata": {},
   "outputs": [
    {
     "name": "stdout",
     "output_type": "stream",
     "text": [
      "Rohit is studing Python\n",
      "Rohit  is studing Python\n"
     ]
    }
   ],
   "source": [
    "#string Concat\n",
    "name = \"Rohit\"\n",
    "work = \" is studing Python\"\n",
    "\n",
    "method1 = name + work\n",
    "print(method1)\n",
    "\n",
    "#dot format\n",
    "method2 = '{} {}'.format(name, work)\n",
    "print(method2)"
   ]
  },
  {
   "cell_type": "code",
   "execution_count": 30,
   "id": "36503477-3c83-48f8-9d60-2092270292c6",
   "metadata": {},
   "outputs": [
    {
     "name": "stdin",
     "output_type": "stream",
     "text": [
      "Enter age:  -2\n"
     ]
    },
    {
     "name": "stdout",
     "output_type": "stream",
     "text": [
      "Invalid Data\n"
     ]
    }
   ],
   "source": [
    "age = int(input(\"Enter age: \"))\n",
    "if age >0:\n",
    "    if age>=60:\n",
    "        print(\"Sr. Citizen\")\n",
    "    else:\n",
    "        print(\"Not Sr. Citizen\")\n",
    "else:\n",
    "    print(\"Invalid Data\");"
   ]
  },
  {
   "cell_type": "code",
   "execution_count": 35,
   "id": "d43a0eba-c8ea-4ec5-a8af-ad9e184a4736",
   "metadata": {},
   "outputs": [
    {
     "name": "stdin",
     "output_type": "stream",
     "text": [
      "Enter First number: 100\n",
      "Enter Second number: 200\n",
      "Enter Third number: 300\n"
     ]
    },
    {
     "name": "stdout",
     "output_type": "stream",
     "text": [
      "Highest entered value is  300\n"
     ]
    }
   ],
   "source": [
    "# WAP in which accept three numbers & print the highest one\n",
    "a = int(input(\"Enter First number:\"))\n",
    "b = int(input(\"Enter Second number:\"))\n",
    "c = int(input(\"Enter Third number:\"))\n",
    "\n",
    "if a<b:\n",
    "    a=b\n",
    "if a<c:\n",
    "    a=c\n",
    "\n",
    "print(\"Highest entered value is \",a)\n"
   ]
  },
  {
   "cell_type": "code",
   "execution_count": 41,
   "id": "03664b91-edcf-413e-aad3-ffaf66aee0eb",
   "metadata": {},
   "outputs": [
    {
     "name": "stdin",
     "output_type": "stream",
     "text": [
      "Enter Day name: xyz\n"
     ]
    },
    {
     "name": "stdout",
     "output_type": "stream",
     "text": [
      "Invalid Entry!\n"
     ]
    }
   ],
   "source": [
    "#WAP in which we will enter name of the day (sunday, monday...). In output according to entry we should get either Working day or weekend\n",
    "day = input(\"Enter Day name:\")\n",
    "day = day.lower()\n",
    "\n",
    "if day == \"mon\" or day == \"tue\" or day == \"wed\" or day == \"thrus\" or day == \"fri\":\n",
    "    print(\"Working Day\")\n",
    "elif day== \"sat\" or day == \"sun\":\n",
    "    print(\"Weekend\")\n",
    "else:\n",
    "    print(\"Invalid Entry!\");\n"
   ]
  }
 ],
 "metadata": {
  "kernelspec": {
   "display_name": "Python [conda env:base] *",
   "language": "python",
   "name": "conda-base-py"
  },
  "language_info": {
   "codemirror_mode": {
    "name": "ipython",
    "version": 3
   },
   "file_extension": ".py",
   "mimetype": "text/x-python",
   "name": "python",
   "nbconvert_exporter": "python",
   "pygments_lexer": "ipython3",
   "version": "3.13.5"
  }
 },
 "nbformat": 4,
 "nbformat_minor": 5
}
